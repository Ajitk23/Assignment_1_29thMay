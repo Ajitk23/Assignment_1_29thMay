{
 "cells": [
  {
   "cell_type": "markdown",
   "id": "e2a96938",
   "metadata": {},
   "source": [
    "# Q.1. Create two int type variables, apply addition, subtraction, division and multiplications and store the results in variables. Then print the data in the following format by calling the\n",
    "variables:\n",
    "\n",
    "First variable is __ & second variable is __.\n",
    "\n",
    "Addition: __ + __ = __\n",
    "\n",
    "Subtraction: __ - __ = __\n",
    "\n",
    "Multiplication: __ * __ = __\n",
    "\n",
    "Division: __ / __ = __"
   ]
  },
  {
   "cell_type": "code",
   "execution_count": 1,
   "id": "28da625c",
   "metadata": {},
   "outputs": [
    {
     "name": "stdout",
     "output_type": "stream",
     "text": [
      "First variable is 10 & second variable is 5\n",
      "Addition: 10 + 5 = 15\n",
      "Subtraction: 10 - 5 = 5\n",
      "Multiplication: 10 * 5 = 50\n",
      "Division: 10 / 5 = 2.0\n"
     ]
    }
   ],
   "source": [
    "first_variable = 10\n",
    "second_variable = 5\n",
    "\n",
    "\n",
    "addition_result = first_variable + second_variable\n",
    "subtraction_result = first_variable - second_variable\n",
    "multiplication_result = first_variable * second_variable\n",
    "division_result = first_variable / second_variable\n",
    "\n",
    "print(\"First variable is\", first_variable, \"& second variable is\", second_variable)\n",
    "print(\"Addition:\", first_variable, \"+\", second_variable, \"=\", addition_result)\n",
    "print(\"Subtraction:\", first_variable, \"-\", second_variable, \"=\", subtraction_result)\n",
    "print(\"Multiplication:\", first_variable, \"*\", second_variable, \"=\", multiplication_result)\n",
    "print(\"Division:\", first_variable, \"/\", second_variable, \"=\", division_result)\n"
   ]
  },
  {
   "cell_type": "markdown",
   "id": "944b0dd3",
   "metadata": {},
   "source": [
    "# Q.2. What is the difference between the following operators:\n",
    "\n",
    "(i) ‘/’ & ‘//’\n",
    "\n",
    "(ii) ‘**’ & ‘^’"
   ]
  },
  {
   "cell_type": "markdown",
   "id": "7da42930",
   "metadata": {},
   "source": [
    "(i) / and // operators:\n",
    "\n",
    "/ is the division operator in Python. It performs floating-point division and returns the quotient as a float. \n",
    "For example, 5 / 2 would result in 2.5.\n",
    "\n",
    "// is the floor division operator in Python. It performs integer division and returns the quotient as an integer, discarding \n",
    "any decimal places. For example, 5 // 2 would result in 2.\n",
    "\n",
    "To summarize, / performs floating-point division, while // performs integer (floor) division.\n",
    "\n",
    "\n",
    "(ii) ** and ^ operators:\n",
    "\n",
    "** is the exponentiation operator in Python. It raises the left operand to the power of the right operand. \n",
    "For example, 2 ** 3 would result in 8 (2 raised to the power of 3).\n",
    "\n",
    "^ is not the exponentiation operator in Python. Instead, it is the bitwise XOR (exclusive OR) operator. \n",
    "It performs a bitwise XOR operation on the binary representations of the operands. For example, 5 ^ 3 would \n",
    "result in 6 (bitwise XOR of binary 101 and 011 is 110, which is 6 in decimal).\n",
    "\n",
    "To summarize, ** performs exponentiation, while ^ performs bitwise XOR."
   ]
  },
  {
   "cell_type": "markdown",
   "id": "c2301ecb",
   "metadata": {},
   "source": [
    "# Q.3. List the logical operators."
   ]
  },
  {
   "cell_type": "markdown",
   "id": "98b3c96b",
   "metadata": {},
   "source": [
    "In Python, the logical operators are used to perform logical operations on Boolean values (True or False). \n",
    "Here are the logical operators in Python:\n",
    "\n",
    "and: The and operator returns True if both operands are True, otherwise it returns False. It evaluates the second operand \n",
    "     only if the first operand is True.\n",
    "\n",
    "or: The or operator returns True if at least one of the operands is True, otherwise it returns False. It evaluates the \n",
    "    second operand only if the first operand is False.\n",
    "\n",
    "not: The not operator is a unary operator that negates the Boolean value. It returns True if the operand is False, and \n",
    "     False if the operand is True."
   ]
  },
  {
   "cell_type": "markdown",
   "id": "fe3f7a1f",
   "metadata": {},
   "source": [
    "# Q.4. Explain right shift operator and left shift operator with examples."
   ]
  },
  {
   "cell_type": "markdown",
   "id": "5286d189",
   "metadata": {},
   "source": [
    "Right Shift (>>):\n",
    "The right shift operator (>>) shifts the bits of a number to the right by a specified number of positions, effectively \n",
    "dividing the number by 2 raised to the power of the shift count.\n",
    "Example:"
   ]
  },
  {
   "cell_type": "code",
   "execution_count": 2,
   "id": "c4b88bb1",
   "metadata": {},
   "outputs": [
    {
     "name": "stdout",
     "output_type": "stream",
     "text": [
      "2\n"
     ]
    }
   ],
   "source": [
    "x = 10  # Binary: 1010\n",
    "result = x >> 2  # Shifts the bits of x two positions to the right\n",
    "print(result)"
   ]
  },
  {
   "cell_type": "code",
   "execution_count": null,
   "id": "79367bca",
   "metadata": {},
   "outputs": [],
   "source": [
    "Left Shift (<<):\n",
    "The left shift operator (<<) shifts the bits of a number to the left by a specified number of positions, effectively multiplying the number by 2 raised to the power of the shift count.\n",
    "Example:"
   ]
  },
  {
   "cell_type": "code",
   "execution_count": 3,
   "id": "a4e8afb8",
   "metadata": {},
   "outputs": [
    {
     "name": "stdout",
     "output_type": "stream",
     "text": [
      "40\n"
     ]
    }
   ],
   "source": [
    "y = 5  # Binary: 101\n",
    "result = y << 3  # Shifts the bits of y three positions to the left\n",
    "print(result)"
   ]
  },
  {
   "cell_type": "markdown",
   "id": "5b5f8a30",
   "metadata": {},
   "source": [
    "# Q.5. Create a list containing int type data of length 15. Then write a code to check if 10 is present in the list or not."
   ]
  },
  {
   "cell_type": "code",
   "execution_count": 4,
   "id": "36c62a60",
   "metadata": {},
   "outputs": [
    {
     "name": "stdout",
     "output_type": "stream",
     "text": [
      "10 is Present in int_list. \n"
     ]
    }
   ],
   "source": [
    "int_list = [1, 2, 3, 4, 5, 6, 7, 8, 9, 10, 11, 12, 13, 14, 15]\n",
    "\n",
    "if 10 in int_list:\n",
    "    print(\"10 is Present in int_list. \")\n",
    "else:\n",
    "    print(\"10 is not present is the list. \")"
   ]
  }
 ],
 "metadata": {
  "kernelspec": {
   "display_name": "Python 3 (ipykernel)",
   "language": "python",
   "name": "python3"
  },
  "language_info": {
   "codemirror_mode": {
    "name": "ipython",
    "version": 3
   },
   "file_extension": ".py",
   "mimetype": "text/x-python",
   "name": "python",
   "nbconvert_exporter": "python",
   "pygments_lexer": "ipython3",
   "version": "3.10.9"
  }
 },
 "nbformat": 4,
 "nbformat_minor": 5
}
