{
 "cells": [
  {
   "cell_type": "markdown",
   "id": "ea5a51a6",
   "metadata": {},
   "source": [
    "# 1. Why are functions advantageous to have in your programs?"
   ]
  },
  {
   "cell_type": "markdown",
   "id": "a8c4930d",
   "metadata": {},
   "source": [
    "1. Enable code reusability.\n",
    "\n",
    "2. Promote modular programming and easy maintenance.\n",
    "\n",
    "3. Abstract away implementation details for better readability.\n",
    "\n",
    "4. Improve code organization and structure.\n",
    "\n",
    "5. Facilitate testing and debugging.\n",
    "\n",
    "6. Encourage code reuse and collaboration."
   ]
  },
  {
   "cell_type": "markdown",
   "id": "ad437ccd",
   "metadata": {},
   "source": [
    "# 2. When does the code in a function run: when it's specified or when it's called?"
   ]
  },
  {
   "cell_type": "markdown",
   "id": "13ccbd40",
   "metadata": {},
   "source": [
    "The code in a function in Python runs when the function is called. The function definition itself only specifies the block \n",
    "of code to be executed when the function is invoked. The actual execution of that code occurs when the function is called \n",
    "at a later point in the program.\n",
    "\n",
    "When you define a function, you are essentially creating a named block of code that can be executed repeatedly by \n",
    "calling that function. The function definition sets up the instructions for what should happen when the function is invoked, \n",
    "but the code inside the function is executed only when the function is called."
   ]
  },
  {
   "cell_type": "markdown",
   "id": "8b2c80bc",
   "metadata": {},
   "source": [
    "# 3. What statement creates a function?"
   ]
  },
  {
   "cell_type": "markdown",
   "id": "403fd321",
   "metadata": {},
   "source": [
    "To create a function, we must first declare it and give it a name, the same way we would create any variable, and then we \n",
    "follow it by a function.\n",
    "\n",
    "A function is a block of code which only runs when it is called. "
   ]
  },
  {
   "cell_type": "markdown",
   "id": "76390971",
   "metadata": {},
   "source": [
    "# 4. What is the difference between a function and a function call?"
   ]
  },
  {
   "cell_type": "markdown",
   "id": "0a1a0676",
   "metadata": {},
   "source": [
    "a function is a defined block of code that performs a specific task, while a function call is the act of invoking or \n",
    "executing that function with the required arguments. Functions allow us to write reusable code and modularize our \n",
    "program by breaking it into smaller, manageable pieces."
   ]
  },
  {
   "cell_type": "markdown",
   "id": "231f5188",
   "metadata": {},
   "source": [
    "# 5. How many global scopes are there in a Python program? How many local scopes?"
   ]
  },
  {
   "cell_type": "markdown",
   "id": "c80e9308",
   "metadata": {},
   "source": [
    "There is typically one global scope in a Python program.\n",
    "\n",
    "The global scope holds global variables and functions that can be accessed from anywhere in the program.\n",
    "\n",
    "Local scopes are created within functions, methods, or blocks.\n",
    "\n",
    "Each time a function is called, a new local scope is created.\n",
    "\n",
    "Variables and parameters defined within a local scope are only accessible within that scope."
   ]
  },
  {
   "cell_type": "markdown",
   "id": "44dc64a4",
   "metadata": {},
   "source": [
    "# 6. What happens to variables in a local scope when the function call returns?"
   ]
  },
  {
   "cell_type": "markdown",
   "id": "256266d6",
   "metadata": {},
   "source": [
    "Local variables within a function's local scope are created when the function is called.\n",
    "\n",
    "These variables hold their values and are used for computations or other operations within the function.\n",
    "\n",
    "Once the function call returns, the local variables are destroyed, and the memory they occupied is released.\n",
    "\n",
    "Attempting to access or reference those variables outside of the function after the function call has returned \n",
    "will result in an error.\n",
    "\n",
    "To retain or utilize the values of local variables outside of the function, you can return the desired values from the \n",
    "function and assign them to variables in the calling scope."
   ]
  },
  {
   "cell_type": "markdown",
   "id": "aeab0c21",
   "metadata": {},
   "source": [
    "# 7. What is the concept of a return value? Is it possible to have a return value in an expression?"
   ]
  },
  {
   "cell_type": "markdown",
   "id": "cb6f56bd",
   "metadata": {},
   "source": [
    "A return is a value that a function returns to the calling script or function when it completes its task. A return value can \n",
    "be any one of the four variable types: handle, integer, object, or string.\n",
    "\n",
    "A Python function will always have a return value. There is no notion of procedure or routine in Python. So, if you don't \n",
    "explicitly use a return value in a return statement, or if you totally omit the return statement, then Python will implicitly \n",
    "return a default value for us."
   ]
  },
  {
   "cell_type": "markdown",
   "id": "1fb4bd15",
   "metadata": {},
   "source": [
    "# 8. If a function does not have a return statement, what is the return value of a call to that function?"
   ]
  },
  {
   "cell_type": "markdown",
   "id": "f0cb641a",
   "metadata": {},
   "source": [
    "If no return statement appears in a function definition, control automatically returns to the calling function after the last \n",
    "statement of the called function is executed. In this case, the return value of the called function is undefined. Also its return value of a call to that function will always be None."
   ]
  },
  {
   "cell_type": "markdown",
   "id": "a39d14d8",
   "metadata": {},
   "source": [
    "# 9. How do you make a function variable refer to the global variable?"
   ]
  },
  {
   "cell_type": "markdown",
   "id": "68cf46d8",
   "metadata": {},
   "source": [
    "Normally, when you create a variable inside a function, that variable is local, and can only be used inside that function. \n",
    "To create a global variable inside a function, you can use the global keyword."
   ]
  },
  {
   "cell_type": "markdown",
   "id": "edc29e3a",
   "metadata": {},
   "source": [
    "# 10. What is the data type of None?"
   ]
  },
  {
   "cell_type": "markdown",
   "id": "bddecb00",
   "metadata": {},
   "source": [
    "In Python, None is a special value that represents the absence of a value or the lack of a specific object. It is considered \n",
    "a built-in constant and is classified as a data type of its own, called NoneType.\n",
    "\n",
    "The NoneType is a singleton data type, meaning there is only one instance of it in the entire program. We can use \n",
    "the type() function to check the data type of None. Here's an example:"
   ]
  },
  {
   "cell_type": "code",
   "execution_count": 1,
   "id": "cb2b0779",
   "metadata": {},
   "outputs": [
    {
     "name": "stdout",
     "output_type": "stream",
     "text": [
      "<class 'NoneType'>\n"
     ]
    }
   ],
   "source": [
    "result = None\n",
    "print(type(result))  # Output: <class 'NoneType'>"
   ]
  },
  {
   "cell_type": "markdown",
   "id": "5d70fc11",
   "metadata": {},
   "source": [
    "In this example, the type() function is used to determine the data type of the variable value, which is assigned None. \n",
    "The output will indicate that the data type is NoneType.\n",
    "\n",
    "None is commonly used in Python to indicate the absence of a value, to initialize variables, or as a default return value for \n",
    "functions that do not explicitly return anything."
   ]
  },
  {
   "cell_type": "markdown",
   "id": "8ecf9505",
   "metadata": {},
   "source": [
    "# 11. What does the sentence import areallyourpetsnamederic do?"
   ]
  },
  {
   "cell_type": "markdown",
   "id": "e494f7e2",
   "metadata": {},
   "source": [
    "The statement \"import areallyourpetsnamederic\" does not refer to any existing or recognized module in Python. It is an \n",
    "arbitrary phrase that does not correspond to a valid Python module."
   ]
  },
  {
   "cell_type": "markdown",
   "id": "429f0094",
   "metadata": {},
   "source": [
    "# 12. If you had a bacon() feature in a spam module, what would you call it after importing spam?"
   ]
  },
  {
   "cell_type": "markdown",
   "id": "10d0e5f0",
   "metadata": {},
   "source": [
    "This function can be called with spam.bacon().\n"
   ]
  },
  {
   "cell_type": "markdown",
   "id": "765e7048",
   "metadata": {},
   "source": [
    "# 13. What can you do to save a programme from crashing if it encounters an error?"
   ]
  },
  {
   "cell_type": "markdown",
   "id": "f1d73366",
   "metadata": {},
   "source": [
    "Place the line of code that might cause an error in a try clause."
   ]
  },
  {
   "cell_type": "markdown",
   "id": "4bee477f",
   "metadata": {},
   "source": [
    "# 14. What is the purpose of the try clause? What is the purpose of the except clause?"
   ]
  },
  {
   "cell_type": "markdown",
   "id": "93c38119",
   "metadata": {},
   "source": [
    "The code that could potentially cause an error goes in the try clause.\n",
    "-The code that executes if an error happens goes in the except clause."
   ]
  }
 ],
 "metadata": {
  "kernelspec": {
   "display_name": "Python 3 (ipykernel)",
   "language": "python",
   "name": "python3"
  },
  "language_info": {
   "codemirror_mode": {
    "name": "ipython",
    "version": 3
   },
   "file_extension": ".py",
   "mimetype": "text/x-python",
   "name": "python",
   "nbconvert_exporter": "python",
   "pygments_lexer": "ipython3",
   "version": "3.10.9"
  }
 },
 "nbformat": 4,
 "nbformat_minor": 5
}
