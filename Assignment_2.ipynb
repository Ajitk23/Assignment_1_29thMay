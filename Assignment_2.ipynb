{
 "cells": [
  {
   "cell_type": "markdown",
   "id": "1c8edeef",
   "metadata": {},
   "source": [
    "# 1.What are the two values of the Boolean data type? How do you write them?"
   ]
  },
  {
   "cell_type": "markdown",
   "id": "281deb7e",
   "metadata": {},
   "source": [
    "The Boolean data type typically represents two values i.e. \"true\" and \"false.\" \n",
    "These values are used to represent logical states or conditions in Python.\n",
    "\n",
    "The capitalization is important, as \"true\" and \"false\" are case-sensitive."
   ]
  },
  {
   "cell_type": "markdown",
   "id": "8210dfd6",
   "metadata": {},
   "source": [
    "# 2. What are the three different types of Boolean operators?"
   ]
  },
  {
   "cell_type": "markdown",
   "id": "46088134",
   "metadata": {},
   "source": [
    "AND operator: It is represented by the keyword \"and\" in Python. It returns \"True\" if both operands are true; otherwise, it returns \"False\". For example:\n",
    "Expression: A and B\n",
    "Result: True if A and B are both true; False otherwise.\n",
    "\n",
    "OR operator: It is represented by the keyword \"or\" in Python. It returns \"True\" if at least one of the operands is true; otherwise, it returns \"False\". For example:\n",
    "Expression: A or B\n",
    "Result: True if either A or B (or both) are true; False if both A and B are false.\n",
    "\n",
    "NOT operator: It is represented by the keyword \"not\" in Python. It negates the value of the operand, i.e., it returns the opposite Boolean value. If the operand is true, the NOT operator returns false, and if the operand is false, it returns true. For example:\n",
    "Expression: not A\n",
    "Result: True if A is false; False if A is true.\n",
    "These Boolean operators in Python are commonly used for logical operations, conditional statements, and boolean expressions."
   ]
  },
  {
   "cell_type": "markdown",
   "id": "0aab0d3d",
   "metadata": {},
   "source": [
    "# 4. What are the values of the following expressions?\n",
    "(5 > 4) and (3 == 5)\n",
    "\n",
    "not (5 > 4)\n",
    "\n",
    "(5 > 4) or (3 == 5)\n",
    "\n",
    "not ((5 > 4) or (3 == 5))\n",
    "\n",
    "(True and True) and (True == False)\n",
    "\n",
    "(not False) or (not True)"
   ]
  },
  {
   "cell_type": "markdown",
   "id": "a481bff2",
   "metadata": {},
   "source": [
    "(5 > 4) and (3 == 5) -- False\n",
    "\n",
    "not (5 > 4) -- False\n",
    "\n",
    "(5 > 4) or (3 == 5) -- True\n",
    "\n",
    "not ((5 > 4) or (3 == 5)) -- False\n",
    "\n",
    "(True and True) and (True == False) -- False\n",
    "\n",
    "(not False) or (not True) -- True"
   ]
  },
  {
   "cell_type": "code",
   "execution_count": 2,
   "id": "164d2c79",
   "metadata": {},
   "outputs": [
    {
     "data": {
      "text/plain": [
       "False"
      ]
     },
     "execution_count": 2,
     "metadata": {},
     "output_type": "execute_result"
    }
   ],
   "source": [
    "(5 > 4) and (3 == 5)"
   ]
  },
  {
   "cell_type": "code",
   "execution_count": 3,
   "id": "18552ad5",
   "metadata": {},
   "outputs": [
    {
     "data": {
      "text/plain": [
       "False"
      ]
     },
     "execution_count": 3,
     "metadata": {},
     "output_type": "execute_result"
    }
   ],
   "source": [
    "not (5 > 4)"
   ]
  },
  {
   "cell_type": "code",
   "execution_count": 4,
   "id": "80cd83f8",
   "metadata": {},
   "outputs": [
    {
     "data": {
      "text/plain": [
       "True"
      ]
     },
     "execution_count": 4,
     "metadata": {},
     "output_type": "execute_result"
    }
   ],
   "source": [
    "(5 > 4) or (3 == 5)"
   ]
  },
  {
   "cell_type": "code",
   "execution_count": 5,
   "id": "064e1e36",
   "metadata": {},
   "outputs": [
    {
     "data": {
      "text/plain": [
       "False"
      ]
     },
     "execution_count": 5,
     "metadata": {},
     "output_type": "execute_result"
    }
   ],
   "source": [
    "not ((5 > 4) or (3 == 5))"
   ]
  },
  {
   "cell_type": "code",
   "execution_count": 6,
   "id": "93de6a21",
   "metadata": {},
   "outputs": [
    {
     "data": {
      "text/plain": [
       "False"
      ]
     },
     "execution_count": 6,
     "metadata": {},
     "output_type": "execute_result"
    }
   ],
   "source": [
    "(True and True) and (True == False)"
   ]
  },
  {
   "cell_type": "code",
   "execution_count": 7,
   "id": "a298fa26",
   "metadata": {},
   "outputs": [
    {
     "data": {
      "text/plain": [
       "True"
      ]
     },
     "execution_count": 7,
     "metadata": {},
     "output_type": "execute_result"
    }
   ],
   "source": [
    "(not False) or (not True)"
   ]
  },
  {
   "cell_type": "markdown",
   "id": "3b0f3632",
   "metadata": {},
   "source": [
    "# 5. What are the six comparison operators?"
   ]
  },
  {
   "cell_type": "markdown",
   "id": "6e4c0b76",
   "metadata": {},
   "source": [
    "Equal to: ==\n",
    "It checks if the left operand is equal to the right operand.\n",
    "\n",
    "Not equal to: !=\n",
    "It checks if the left operand is not equal to the right operand.\n",
    "\n",
    "Greater than: >\n",
    "It checks if the left operand is greater than the right operand.\n",
    "\n",
    "Less than: <\n",
    "It checks if the left operand is less than the right operand.\n",
    "\n",
    "Greater than or equal to: >=\n",
    "It checks if the left operand is greater than or equal to the right operand.\n",
    "\n",
    "Less than or equal to: <=\n",
    "It checks if the left operand is less than or equal to the right operand."
   ]
  },
  {
   "cell_type": "markdown",
   "id": "89d6ffd5",
   "metadata": {},
   "source": [
    "# 6. How do you tell the difference between the equal to and assignment operators?Describe a condition and when you would use one."
   ]
  },
  {
   "cell_type": "markdown",
   "id": "e0606fc4",
   "metadata": {},
   "source": [
    "In Python, the equal to operator (==) is used for comparison, while the assignment operator (=) is used for assignment.\n",
    "\n",
    "The equal to operator (==) compares the values on both sides of the operator and returns True if they are equal, and False \n",
    "otherwise. It is used to compare values in conditions, such as in if statements or within boolean expressions.\n",
    "\n",
    "For example, let's say we have two variables, a and b, and we want to check if their values are equal:"
   ]
  },
  {
   "cell_type": "code",
   "execution_count": 8,
   "id": "b6a9ca14",
   "metadata": {},
   "outputs": [
    {
     "name": "stdout",
     "output_type": "stream",
     "text": [
      "a and b are not equal.\n"
     ]
    }
   ],
   "source": [
    "a = 2\n",
    "b = 3\n",
    "\n",
    "if a == b:\n",
    "    print(\"a and b are equal.\")\n",
    "else:\n",
    "    print(\"a and b are not equal.\")"
   ]
  },
  {
   "cell_type": "code",
   "execution_count": 9,
   "id": "a6fa4c6c",
   "metadata": {},
   "outputs": [
    {
     "name": "stdout",
     "output_type": "stream",
     "text": [
      "23 24\n"
     ]
    }
   ],
   "source": [
    "#When we want to assign and store a value in a variable.\n",
    "x = 23\n",
    "y = 24\n",
    "\n",
    "print(x, y)"
   ]
  },
  {
   "cell_type": "markdown",
   "id": "a5819b6a",
   "metadata": {},
   "source": [
    "# 7. Identify the three blocks in this code:\n",
    "spam = 0\n",
    "\n",
    "if spam == 10:\n",
    "    \n",
    "print('eggs')\n",
    "\n",
    "if spam > 5:\n",
    "    \n",
    "print('bacon')\n",
    "\n",
    "else:\n",
    "print('ham')\n",
    "\n",
    "print('spam')\n",
    "\n",
    "print('spam')"
   ]
  },
  {
   "cell_type": "markdown",
   "id": "3cb0b25b",
   "metadata": {},
   "source": [
    "Block - 1\n",
    "\n",
    "if spam == 10:\n",
    "\n",
    "print('eggs')\n",
    "\n",
    "------------------\n",
    "\n",
    "Block - 2\n",
    "\n",
    "if spam > 5:\n",
    "\n",
    "print('bacon')\n",
    "\n",
    "-------------------\n",
    "\n",
    "Block - 3\n",
    "\n",
    "else: print('ham')\n",
    "\n",
    "print('spam')\n",
    "\n",
    "print('spam')"
   ]
  },
  {
   "cell_type": "markdown",
   "id": "40a9ddb8",
   "metadata": {},
   "source": [
    "# 8. Write code that prints Hello if 1 is stored in spam, prints Howdy if 2 is stored in spam, and prints Greetings! if anything else is stored in spam."
   ]
  },
  {
   "cell_type": "code",
   "execution_count": null,
   "id": "e82ff383",
   "metadata": {},
   "outputs": [],
   "source": [
    "spam = input(\"Please enter 1/2/anything else you want:\")\n",
    "\n",
    "if spam == 1:\n",
    "    print(\"Hello\")\n",
    "elif spam == 2:\n",
    "    print(\"Howdy\")\n",
    "else:\n",
    "    print(\"Greetings!\")"
   ]
  },
  {
   "cell_type": "markdown",
   "id": "a27906ae",
   "metadata": {},
   "source": [
    "# 9.If your programme is stuck in an endless loop, what keys you’ll press?"
   ]
  },
  {
   "cell_type": "markdown",
   "id": "657f9295",
   "metadata": {},
   "source": [
    "We will use Control+c if program is stuck in an endless loop."
   ]
  },
  {
   "cell_type": "markdown",
   "id": "7d55b562",
   "metadata": {},
   "source": [
    "# 10. How can you tell the difference between break and continue?"
   ]
  },
  {
   "cell_type": "markdown",
   "id": "a875c47f",
   "metadata": {},
   "source": [
    "break is used to exit a loop entirely, while continue is used to skip the remaining code within a loop for the \n",
    "current iteration and move on to the next iteration."
   ]
  },
  {
   "cell_type": "markdown",
   "id": "4f9173b9",
   "metadata": {},
   "source": [
    "# 11. In a for loop, what is the difference between range(10), range(0, 10), and range(0, 10, 1)?"
   ]
  },
  {
   "cell_type": "markdown",
   "id": "ec6ef874",
   "metadata": {},
   "source": [
    "range(10) -  It generates the sequence of numbers [0, 1, 2, 3, 4, 5, 6, 7, 8, 9]\n",
    "range (0, 10) - This specifies a range that starts from 0 and goes up to, but not including, 10. \n",
    "It explicitly defines the starting value as 0 and the step size as 1. \n",
    "It generates the same sequence of numbers [0, 1, 2, 3, 4, 5, 6, 7, 8, 9]\n",
    "\n",
    "range(0, 10, 1) - This also specifies a range that starts from 0 and goes up to, but not including, 10. \n",
    "It explicitly defines the starting value as 0, the ending value as 10, and \n",
    "the step size as 1. It generates the same sequence of numbers [0, 1, 2, 3, 4, 5, 6, 7, 8, 9]"
   ]
  },
  {
   "cell_type": "markdown",
   "id": "128a1a41",
   "metadata": {},
   "source": [
    "# 12. Write a short program that prints the numbers 1 to 10 using a for loop. Then write an equivalent program that prints the numbers 1 to 10 using a while loop."
   ]
  },
  {
   "cell_type": "code",
   "execution_count": null,
   "id": "268ba6c0",
   "metadata": {},
   "outputs": [],
   "source": [
    "#using for loop\n",
    "for i in range(1, 11):\n",
    "    print(i)"
   ]
  },
  {
   "cell_type": "code",
   "execution_count": null,
   "id": "29b7fb7e",
   "metadata": {},
   "outputs": [],
   "source": [
    "#using while loop\n",
    "i = 1\n",
    "while i <= 10:\n",
    "    print(i)\n",
    "    i += 1"
   ]
  },
  {
   "cell_type": "markdown",
   "id": "7f70515b",
   "metadata": {},
   "source": [
    "# 13. If you had a function named bacon() inside a module named spam, how would you call it after importing spam?"
   ]
  },
  {
   "cell_type": "markdown",
   "id": "8ec0d587",
   "metadata": {},
   "source": [
    "import spam\n",
    "\n",
    "spam.bacon()"
   ]
  }
 ],
 "metadata": {
  "kernelspec": {
   "display_name": "Python 3 (ipykernel)",
   "language": "python",
   "name": "python3"
  },
  "language_info": {
   "codemirror_mode": {
    "name": "ipython",
    "version": 3
   },
   "file_extension": ".py",
   "mimetype": "text/x-python",
   "name": "python",
   "nbconvert_exporter": "python",
   "pygments_lexer": "ipython3",
   "version": "3.10.9"
  }
 },
 "nbformat": 4,
 "nbformat_minor": 5
}
