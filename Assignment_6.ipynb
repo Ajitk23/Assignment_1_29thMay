{
 "cells": [
  {
   "cell_type": "markdown",
   "id": "75bbd8be",
   "metadata": {},
   "source": [
    "# Q.1. What are keywords in python? Using the keyword library, print all the python keywords."
   ]
  },
  {
   "cell_type": "markdown",
   "id": "aa27ff35",
   "metadata": {},
   "source": [
    "In Python, keywords are reserved words that have predefined meanings and cannot be used as identifiers (such as variable \n",
    "names or function names) in the code. These keywords are part of the Python language syntax and serve specific purposes."
   ]
  },
  {
   "cell_type": "code",
   "execution_count": 1,
   "id": "fc3a24ff",
   "metadata": {},
   "outputs": [
    {
     "name": "stdout",
     "output_type": "stream",
     "text": [
      "['False', 'None', 'True', 'and', 'as', 'assert', 'async', 'await', 'break', 'class', 'continue', 'def', 'del', 'elif', 'else', 'except', 'finally', 'for', 'from', 'global', 'if', 'import', 'in', 'is', 'lambda', 'nonlocal', 'not', 'or', 'pass', 'raise', 'return', 'try', 'while', 'with', 'yield']\n"
     ]
    }
   ],
   "source": [
    "import keyword\n",
    "\n",
    "all_keywords = keyword.kwlist\n",
    "print(all_keywords)"
   ]
  },
  {
   "cell_type": "markdown",
   "id": "e14b3f31",
   "metadata": {},
   "source": [
    "# Q.2. What are the rules to create variables in python?"
   ]
  },
  {
   "cell_type": "markdown",
   "id": "1876daf5",
   "metadata": {},
   "source": [
    "A variable can have a short name (like x and y) or a more descriptive name (age, carname, total_volume).\n",
    "\n",
    "Rules for Python variables:\n",
    "\n",
    "A variable name must start with a letter or the underscore character\n",
    "A variable name cannot start with a number\n",
    "A variable name can only contain alpha-numeric characters and underscores (A-z, 0-9, and _ )\n",
    "Variable names are case-sensitive (age, Age and AGE are three different variables)"
   ]
  },
  {
   "cell_type": "markdown",
   "id": "17303077",
   "metadata": {},
   "source": [
    "# Q.3. What are the standards and conventions followed for the nomenclature of variables in python to improve code readability and maintainability?"
   ]
  },
  {
   "cell_type": "markdown",
   "id": "7f5e2c24",
   "metadata": {},
   "source": [
    "In Python, there are certain standards and conventions for variable naming that are widely followed to improve code \n",
    "readability and maintainability. These conventions help make the code more consistent and easier to understand for both the \n",
    "original developer and other programmers who may work on the code later. Here are some commonly accepted naming conventions for \n",
    "variables in Python:\n",
    "\n",
    "Snake Case: The most commonly used convention in Python is snake case. It involves using all lowercase letters and separating \n",
    "            words with underscores.\n",
    "\n",
    "            my_variable = 10\n",
    "            total_count = 5\n",
    "            student_name = \"John Doe\"\n",
    "\n",
    "Descriptive Names: Use variable names that are descriptive and meaningful. This makes it easier to understand the purpose or \n",
    "                   content of the variable.\n",
    "        \n",
    "                   num_students = 10\n",
    "                   average_grade = 85.5\n",
    "\n",
    "Avoid Single Letters: Try to avoid using single letters (except for common conventions like i, j, x, y, etc.) as variable names,\n",
    "                      as they tend to be less descriptive. Instead, choose names that provide more context.\n",
    "\n",
    "Constants: For constants (values that are not expected to change), it is a convention to use all uppercase letters with \n",
    "           underscores separating words. \n",
    "           For example:\n",
    "           PI = 3.14159\n",
    "           MAX_VALUE = 100\n",
    "\n",
    "Avoid Reserved Keywords: Do not use reserved keywords as variable names, as they have special meanings in Python. \n",
    "                         For example, avoid using if, for, while, print, etc.\n",
    "\n",
    "Class Names: For class names, it is a convention to use CamelCase. Start each word with an uppercase letter, without \n",
    "             underscores.\n",
    "        \n",
    "             class Person:\n",
    "                pass"
   ]
  },
  {
   "cell_type": "markdown",
   "id": "b0cb0614",
   "metadata": {},
   "source": [
    "# Q.4. What will happen if a keyword is used as a variable name?"
   ]
  },
  {
   "cell_type": "markdown",
   "id": "039d1d2e",
   "metadata": {},
   "source": [
    "If you attempt to use a keyword as a variable name in Python, you will encounter a syntax error. Keywords are reserved words \n",
    "that have predefined meanings in the Python language, and they cannot be used as variable names or identifiers.\n",
    "\n",
    "When you try to use a keyword as a variable name, Python will raise a SyntaxError indicating that there is an invalid syntax. \n",
    "This error occurs because the interpreter recognizes the keyword and expects it to be used in a specific context, not as a \n",
    "variable.\n",
    "\n",
    "Here's an example that demonstrates what happens when a keyword is used as a variable name:"
   ]
  },
  {
   "cell_type": "code",
   "execution_count": 4,
   "id": "c18bda30",
   "metadata": {},
   "outputs": [
    {
     "ename": "SyntaxError",
     "evalue": "invalid syntax (4166629088.py, line 1)",
     "output_type": "error",
     "traceback": [
      "\u001b[1;36m  Cell \u001b[1;32mIn[4], line 1\u001b[1;36m\u001b[0m\n\u001b[1;33m    if = 10  # Using \"if\" as a variable name\u001b[0m\n\u001b[1;37m       ^\u001b[0m\n\u001b[1;31mSyntaxError\u001b[0m\u001b[1;31m:\u001b[0m invalid syntax\n"
     ]
    }
   ],
   "source": [
    "if = 10  # Using \"if\" as a variable name"
   ]
  },
  {
   "cell_type": "markdown",
   "id": "80467d7d",
   "metadata": {},
   "source": [
    "To avoid this error, we should choose a different, non-reserved name for our variables that does not conflict with any \n",
    "of the Python keywords."
   ]
  },
  {
   "cell_type": "markdown",
   "id": "780ee0ee",
   "metadata": {},
   "source": [
    "# Q.5. For what purpose def keyword is used?"
   ]
  },
  {
   "cell_type": "markdown",
   "id": "c8870aca",
   "metadata": {},
   "source": [
    "The def keyword is used to create, (or define) a function."
   ]
  },
  {
   "cell_type": "code",
   "execution_count": 5,
   "id": "d0b3032b",
   "metadata": {},
   "outputs": [
    {
     "name": "stdout",
     "output_type": "stream",
     "text": [
      "Hello from a function\n"
     ]
    }
   ],
   "source": [
    "def my_function():\n",
    "  print(\"Hello from a function\")\n",
    "\n",
    "my_function()"
   ]
  },
  {
   "cell_type": "markdown",
   "id": "43bd6b13",
   "metadata": {},
   "source": [
    "# Q.6. What is the operation of this special character ‘\\’?"
   ]
  },
  {
   "cell_type": "code",
   "execution_count": null,
   "id": "a91c8ad3",
   "metadata": {},
   "outputs": [],
   "source": [
    "In Python strings, the backslash \"\\\" is a special character, also called the \"escape\" character. It is used in representing \n",
    "certain whitespace characters: \"\\t\" is a tab, \"\\n\" is a newline, and \"\\r\" is a carriage return.\n",
    "\n",
    "\t\n",
    ">>> print 'apple\\torange'\n",
    "apple\torange \n",
    ">>> print 'apple\\norange'\n",
    "apple\n",
    "orange \n",
    "# -------------------------------------------------------------------------------------------------------------------------------\n",
    "\n",
    "Conversely, prefixing a special character with \"\\\" turns it into an ordinary character. This is called \"escaping\". \n",
    "For example, \"\\'\" is the single quote character. 'It\\'s raining' therefore is a valid string and equivalent to \"It's raining\". \n",
    "Likewise, '\"' can be escaped: \"\\\"hello\\\"\" is a string begins and ends with the literal double quote character. \n",
    "Finally, \"\\\" can be used to escape itself: \"\\\\\" is the literal backslash character.\n",
    "\n",
    ">>> print 'It\\'s raining'\n",
    "It's raining \n",
    ">>> 'It\\'s raining'          # Same string specified differently\n",
    "\"It's raining\" \n",
    ">>> print \"\\\"hello\\\"\"\n",
    "\"hello\" \n",
    ">>> print '\"\\\\\" is the backslash'   # Try with \"\\\" instead of \"\\\\\"\n",
    "\"\\\" is the backslash "
   ]
  },
  {
   "cell_type": "markdown",
   "id": "10b2b092",
   "metadata": {},
   "source": [
    "<!-- The backslash (\\) character is used as an escape character in Python. It has special meaning and is used to represent certain \n",
    "characters or sequences of characters within strings and other literals. Here are some common use cases for the backslash \n",
    "character in Python:\n",
    "\n",
    "Escape Sequences: The backslash is used to represent escape sequences, which are special character combinations that are \n",
    "                  difficult to represent directly within a string. For example:\n",
    "\n",
    "1. '\\n' represents a newline character.\n",
    "\n",
    "2. '\\t' represents a tab character.\n",
    "\n",
    "3. '\\\"' represents a double quotation mark within a string.\n",
    "\n",
    "4. '\\'' represents a single quotation mark within a string.\n",
    "\n",
    "5. '\\\\' represents a single backslash character within a string.\n",
    "\n",
    "Raw Strings: By prefixing a string literal with the r or R character, the backslash loses its special meaning and is treated as \n",
    "             a literal character. This is useful when working with regular expressions, file paths, or other scenarios where \n",
    "             backslashes are commonly used. -->\n",
    "\n",
    "<!-- Line Continuation: The backslash can be used to split long lines of code into multiple lines for better readability. If a \n",
    "                   backslash is placed at the end of a line, it indicates that the line continues to the next line. -->"
   ]
  },
  {
   "cell_type": "markdown",
   "id": "4b5a74f0",
   "metadata": {},
   "source": [
    "# Q.7. Give an example of the following conditions:\n",
    "# (i) Homogeneous list\n",
    "# (ii) Heterogeneous set\n",
    "# (iii) Homogeneous tuple"
   ]
  },
  {
   "cell_type": "markdown",
   "id": "a5cf3e91",
   "metadata": {},
   "source": [
    "(i) Homogeneous list:\n",
    "A homogeneous list in Python is a list that contains elements of the same data type. Here's an example of a homogeneous \n",
    "list containing integers:\n",
    "    \n",
    "    numbers = [1, 2, 3, 4, 5]\n",
    "    \n",
    "(ii) Heterogeneous set:\n",
    "A heterogeneous set in Python is a set that contains elements of different data types. Here's an example of a heterogeneous set:\n",
    "\n",
    "    my_set = {1, \"apple\", True, 3.14}\n",
    "    \n",
    "(iii) Homogeneous tuple:\n",
    "A homogeneous tuple in Python is a tuple that contains elements of the same data type. Here's an example of a homogeneous tuple \n",
    "containing strings:\n",
    "\n",
    "    fruits = (\"apple\", \"banana\", \"orange\")\n"
   ]
  },
  {
   "cell_type": "markdown",
   "id": "aba24a9c",
   "metadata": {},
   "source": [
    "# Q.8. Explain the mutable and immutable data types with proper explanation & examples."
   ]
  },
  {
   "cell_type": "markdown",
   "id": "63ab18ff",
   "metadata": {},
   "source": [
    "Mutable Data Types:\n",
    "Mutable data types can be changed after they are created. Examples include lists, sets, and dictionaries."
   ]
  },
  {
   "cell_type": "code",
   "execution_count": 10,
   "id": "8d6f8cdc",
   "metadata": {},
   "outputs": [
    {
     "name": "stdout",
     "output_type": "stream",
     "text": [
      "[10, 2, 3]\n"
     ]
    }
   ],
   "source": [
    "my_list = [1, 2, 3]  # A mutable list\n",
    "my_list[0] = 10  # Modifying the first element\n",
    "print(my_list)  # Output: [10, 2, 3]"
   ]
  },
  {
   "cell_type": "markdown",
   "id": "757f94c6",
   "metadata": {},
   "source": [
    "Immutable Data Types:\n",
    "Immutable data types cannot be changed after they are created. Examples include strings, numbers (integers, floats), and tuples."
   ]
  },
  {
   "cell_type": "code",
   "execution_count": 11,
   "id": "2da1ace3",
   "metadata": {},
   "outputs": [
    {
     "name": "stdout",
     "output_type": "stream",
     "text": [
      "Hello World\n"
     ]
    }
   ],
   "source": [
    "my_string = \"Hello\"  # An immutable string\n",
    "new_string = my_string + \" World\"  # Creating a new string by concatenation\n",
    "print(new_string)  # Output: \"Hello World\""
   ]
  },
  {
   "cell_type": "markdown",
   "id": "4dd5c3b5",
   "metadata": {},
   "source": [
    "In this example, the original string my_string remains unchanged, but a new string new_string is created by \n",
    "concatenating \"Hello\" with \" World\".\n",
    "\n",
    "To summarize, mutable data types allow direct modifications, while immutable data types require creating new objects with \n",
    "the desired changes."
   ]
  },
  {
   "cell_type": "markdown",
   "id": "d788040d",
   "metadata": {},
   "source": [
    "# Q.9. Write a code to create the given structure using only for loop.\n",
    "\n",
    "# *\n",
    "# ***\n",
    "# *****\n",
    "# *******\n",
    "# *********"
   ]
  },
  {
   "cell_type": "code",
   "execution_count": 12,
   "id": "273386b5",
   "metadata": {},
   "outputs": [
    {
     "name": "stdout",
     "output_type": "stream",
     "text": [
      "*\n",
      "**\n",
      "***\n",
      "****\n",
      "*****\n"
     ]
    }
   ],
   "source": [
    "for i in range(1, 6):  # Number of rows\n",
    "    for j in range(i):  # Number of asterisks in each row\n",
    "        print(\"*\", end=\"\")\n",
    "    print()  # Move to the next line"
   ]
  },
  {
   "cell_type": "markdown",
   "id": "daab7d8c",
   "metadata": {},
   "source": [
    "# Q.10. Write a code to create the given structure using while loop.\n",
    "\n",
    "# |||||||||\n",
    "# |||||||\n",
    "# |||||\n",
    "# |||\n",
    "# |"
   ]
  },
  {
   "cell_type": "code",
   "execution_count": 13,
   "id": "7c43d0bf",
   "metadata": {},
   "outputs": [
    {
     "name": "stdout",
     "output_type": "stream",
     "text": [
      "|||||\n",
      "||||\n",
      "|||\n",
      "||\n",
      "|\n"
     ]
    }
   ],
   "source": [
    "rows = 5 \n",
    "i = rows\n",
    "\n",
    "while i >= 1:\n",
    "    j = 1\n",
    "    while j <= i:\n",
    "        print(\"|\", end=\"\")\n",
    "        j += 1\n",
    "    print() \n",
    "    i -= 1"
   ]
  }
 ],
 "metadata": {
  "kernelspec": {
   "display_name": "Python 3 (ipykernel)",
   "language": "python",
   "name": "python3"
  },
  "language_info": {
   "codemirror_mode": {
    "name": "ipython",
    "version": 3
   },
   "file_extension": ".py",
   "mimetype": "text/x-python",
   "name": "python",
   "nbconvert_exporter": "python",
   "pygments_lexer": "ipython3",
   "version": "3.10.9"
  }
 },
 "nbformat": 4,
 "nbformat_minor": 5
}
