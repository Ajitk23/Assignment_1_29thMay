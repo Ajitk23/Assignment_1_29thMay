{
 "cells": [
  {
   "cell_type": "markdown",
   "id": "785a6d16",
   "metadata": {},
   "source": [
    "# 1. In the below elements which of them are values or an expression? eg:- values can be integer or string and expressions will be mathematical operators.\n",
    "* \n",
    "'hello'\n",
    "\n",
    "-87.8\n",
    "\n",
    "- \n",
    "\n",
    "/ \n",
    "\n",
    "+\n",
    "\n",
    "6 "
   ]
  },
  {
   "cell_type": "markdown",
   "id": "749b72ce",
   "metadata": {},
   "source": [
    "Ans- Here, we can categorize like below \n",
    "\t\n",
    "Values --'hello', -87.8, 6\t\n",
    "\n",
    "\n",
    "Expression -- *, /,  +\n"
   ]
  },
  {
   "cell_type": "markdown",
   "id": "f817a865",
   "metadata": {},
   "source": [
    "# 2. What is the difference between string and variable?"
   ]
  },
  {
   "cell_type": "markdown",
   "id": "12b10fa7",
   "metadata": {},
   "source": [
    "Ans - \n",
    "Variables: In Python, a variable is a name that refers to a value stored in the computer's memory. It acts as a container for storing and retrieving data. Variables in Python do not have an explicit type declaration; their type is inferred from the value assigned to them. \n",
    "We can assign various types of values to variables, including strings, numbers, lists, objects, and more. \n",
    "Variables are created using the assignment operator \"=\".\n",
    "\n",
    "ex, \n",
    "name = \"Ajit\"\n",
    "\n",
    "age = 24              \n",
    "\n",
    "Here, name and age both are variables where Ajit and 24 has been stored respectively in the computer's                           memory.\n",
    " \n",
    " \n",
    "Strings: \n",
    "In Python, a string is a sequence of characters enclosed in either single (' ') or double (\" \") quotation marks. Strings are a data type specifically used to represent textual data. They can contain letters, numbers, symbols, and spaces. \n",
    "\n",
    "In the above example, \"Ajit\" and 24 are strings."
   ]
  },
  {
   "cell_type": "markdown",
   "id": "f5a624f5",
   "metadata": {},
   "source": [
    "# 3. Describe three different data types."
   ]
  },
  {
   "cell_type": "markdown",
   "id": "b5f23ddf",
   "metadata": {},
   "source": [
    "Python supports several built-in data types that are used to represent different kinds of data.\n",
    "\n",
    "1. Numeric Types:\n",
    "int: Represents integer values, e.g., 42, -10, 0.\n",
    "float: Represents floating-point numbers with decimal values, e.g., 3.14, -2.5, 0.0.\n",
    "complex: Represents complex numbers in the form of a + bj, where a and b are real numbers and j represents the imaginary unit.\n",
    "\n",
    "2. Boolean Type:\n",
    "Represents either True or False, used for logical operations and conditional expressions.\n",
    "\n",
    "3. Sequence Types:\n",
    "str: Represents strings, which are sequences of characters enclosed in single (' ') or double (\" \") quotation marks. \n",
    "Strings can contain letters, numbers, symbols, and spaces. Examples include \"Hello\", 'Python', and \"123\".\n",
    "list: Represents mutable ordered collections of elements. \n",
    "Lists can contain elements of different data types and are enclosed in square brackets []. \n",
    "Elements in a list are separated by commas. Examples include [1, 2, 3], ['apple', 'banana', 'cherry'], and [1, \"hello\", 3.14].\n",
    "tuple: Represents immutable ordered collections of elements. Tuples are similar to lists, but once created, their \n",
    "elements cannot be modified. Tuples are enclosed in parentheses (). \n",
    "Examples include (1, 2, 3), ('a', 'b', 'c'), and (1, \"hello\", 3.14)."
   ]
  },
  {
   "cell_type": "markdown",
   "id": "4d76939a",
   "metadata": {},
   "source": [
    "# 4. What is an expression made up of? What do all expressions do?"
   ]
  },
  {
   "cell_type": "markdown",
   "id": "b4201ca5",
   "metadata": {},
   "source": [
    "In Python, an expression is made up of values, variables, operators, and function calls that evaluates to a single value. \n",
    "It is a piece of code that produces a result when executed. Expressions can be as simple as a single value or as complex \n",
    "as a combination of multiple sub-expressions.\n",
    "\n",
    "Expressions can have various purposes and perform different actions based on the context in which they are used. \n",
    "Here are some common uses,\n",
    "1. Computations: Expressions can perform mathematical computations and calculations using arithmetic operators. For example, \n",
    "3 + 5 is an expression that evaluates to 8.\n",
    "\n",
    "2. Comparison: Expressions can compare values using comparison operators to determine if they are equal, not equal, greater than, \n",
    "or less than each other. For example, x > 10 is an expression that evaluates to a Boolean value (True or False) based on \n",
    "whether x is greater than 10.\n",
    "\n",
    "3. Logical Operations: Expressions can use logical operators to combine and evaluate Boolean values. \n",
    "For example, x > 5 and y < 10 is an expression that evaluates to True if both conditions are satisfied.\n",
    "etc."
   ]
  },
  {
   "cell_type": "markdown",
   "id": "860989ee",
   "metadata": {},
   "source": [
    "# 5. This assignment statements, like spam = 10. What is the difference between an expression and a statement?"
   ]
  },
  {
   "cell_type": "markdown",
   "id": "72a36f22",
   "metadata": {},
   "source": [
    "Here assignment statement spam = 10 is a statement because it is a complete instruction that assigns the value 10 to the \n",
    "variable spam. It does not produce a value or result like an expression does. The purpose of the assignment statement \n",
    "is to store a value in a variable for later use in the program.\n",
    "\n",
    "In summary, the key difference between expressions and statements in Python is that expressions produce a value when evaluated, \n",
    "while statements are complete instructions or actions that perform operations, control flow, or define structures within a \n",
    "program. Statements can contain expressions, but they are not the same thing."
   ]
  },
  {
   "cell_type": "markdown",
   "id": "72fbfb4c",
   "metadata": {},
   "source": [
    "# 6. After running the following code, what does the variable bacon contain?\n",
    "bacon = 22\n",
    "\n",
    "bacon + 1"
   ]
  },
  {
   "cell_type": "markdown",
   "id": "182434bb",
   "metadata": {},
   "source": [
    "After running the above code given in the question, \"bacon\" variable will cintain a new value 23"
   ]
  },
  {
   "cell_type": "markdown",
   "id": "1111dd3b",
   "metadata": {},
   "source": [
    "# 7. What should the values of the following two terms be?\n",
    "'spam' + 'spamspam'\n",
    "\n",
    "'spam' * 3"
   ]
  },
  {
   "cell_type": "markdown",
   "id": "27461d9a",
   "metadata": {},
   "source": [
    "Ans - For 'spam' + 'spamspam' when we concatenate we will get,\n",
    "\n",
    "spamspamspam\n",
    "\n",
    "For 'spam' * 3 we get,\n",
    "\n",
    "spamspamspam\n"
   ]
  },
  {
   "cell_type": "code",
   "execution_count": 11,
   "id": "a5792c0c",
   "metadata": {},
   "outputs": [
    {
     "name": "stdout",
     "output_type": "stream",
     "text": [
      "spamspamspam\n",
      "spamspamspam\n"
     ]
    }
   ],
   "source": [
    "print('spam' + 'spamspam')\n",
    "print('spam' * 3)"
   ]
  },
  {
   "cell_type": "markdown",
   "id": "ef21087b",
   "metadata": {},
   "source": [
    "# 8. Why is eggs a valid variable name while 100 is invalid?"
   ]
  },
  {
   "cell_type": "markdown",
   "id": "476c81d0",
   "metadata": {},
   "source": [
    "The rules for variable naming generally include the following:\n",
    "\n",
    "Variable names must start with a letter or underscore (_). They cannot begin with a number.\n",
    "Subsequent characters in the variable name can be letters, numbers, or underscores.\n",
    "Variable names are case-sensitive, meaning uppercase and lowercase letters are considered different.\n",
    "Variable names should not be the same as reserved keywords or built-in function names in the programming language.\n",
    "\n",
    "Here,\n",
    "\"eggs\" is a valid variable name because it starts with a letter (\"e\") and contains only letters, which are allowed characters. \n",
    "It does not conflict with any reserved keywords or built-in function names. Therefore, \"eggs\" can be used as a variable name \n",
    "in most programming languages.\n",
    "\n",
    "\"100\" is not a valid variable name in most programming languages because it starts with a number (\"1\") instead of \n",
    "a letter or underscore. Following the naming conventions, variable names cannot begin with a number. \n",
    "If you need to use a number in a variable name, you could include it elsewhere within the name, \n",
    "such as \"eggs100\" or \"count_100\"."
   ]
  },
  {
   "cell_type": "markdown",
   "id": "2b5c8c34",
   "metadata": {},
   "source": [
    "# 9. What three functions can be used to get the integer, floating-point number, or string version of a value?"
   ]
  },
  {
   "cell_type": "markdown",
   "id": "116666f7",
   "metadata": {},
   "source": [
    "1. We use int(any value) to convert any value into an integer\n",
    "2. We use float(any value) to convert any value into a float.\n",
    "3. We use str(any value) to convert any value into a string."
   ]
  },
  {
   "cell_type": "markdown",
   "id": "48818b45",
   "metadata": {},
   "source": [
    "# 10. Why does this expression cause an error? How can you fix it?\n",
    "\n",
    "'I have eaten ' + 99 + ' burritos.'"
   ]
  },
  {
   "cell_type": "markdown",
   "id": "b1f918d4",
   "metadata": {},
   "source": [
    "Here,\n",
    "'I have eaten' and 'burritos.' are string verson where 99 is an integer so we can not add all.\n",
    "to fix it we can convert 99 to a string instead of integer by the help of str() fuction.\n",
    "\n",
    "so here we can write - \n",
    "\n",
    "new_qusn = 'I have eaten' + str(99) + 'burritos' \n",
    "\n",
    "for more clarity we can add a space so we can write code as 'I have eaten' + ' ' + str(99) + ' ' + 'burritos.'"
   ]
  },
  {
   "cell_type": "code",
   "execution_count": 12,
   "id": "507997bb",
   "metadata": {},
   "outputs": [
    {
     "name": "stdout",
     "output_type": "stream",
     "text": [
      "I have eaten 99 burritos.\n"
     ]
    }
   ],
   "source": [
    "print('I have eaten' + ' ' + str(99) + ' ' + 'burritos.')"
   ]
  }
 ],
 "metadata": {
  "kernelspec": {
   "display_name": "Python 3 (ipykernel)",
   "language": "python",
   "name": "python3"
  },
  "language_info": {
   "codemirror_mode": {
    "name": "ipython",
    "version": 3
   },
   "file_extension": ".py",
   "mimetype": "text/x-python",
   "name": "python",
   "nbconvert_exporter": "python",
   "pygments_lexer": "ipython3",
   "version": "3.10.9"
  }
 },
 "nbformat": 4,
 "nbformat_minor": 5
}
